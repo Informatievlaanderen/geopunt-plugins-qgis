{
 "cells": [
  {
   "cell_type": "code",
   "execution_count": 1,
   "metadata": {},
   "outputs": [],
   "source": [
    "from qgis.core import Qgis"
   ]
  },
  {
   "cell_type": "code",
   "execution_count": 1,
   "metadata": {},
   "outputs": [],
   "source": [
    "import xml.etree.ElementTree as etree\n",
    "import requests"
   ]
  },
  {
   "cell_type": "code",
   "execution_count": 12,
   "metadata": {},
   "outputs": [
    {
     "data": {
      "text/plain": [
       "'2.0.0'"
      ]
     },
     "execution_count": 12,
     "metadata": {},
     "output_type": "execute_result"
    }
   ],
   "source": [
    "url= \"https://www.dov.vlaanderen.be/geoserver/pfas/wfs?service=wfs&request=getcapabilities\"\n",
    "\n",
    "xdata=  requests.get(url).text\n",
    "result = etree.fromstring(xdata)\n"
   ]
  },
  {
   "cell_type": "code",
   "execution_count": 19,
   "metadata": {},
   "outputs": [
    {
     "data": {
      "text/plain": [
       "[<Element '{http://www.opengis.net/wfs/2.0}FeatureType' at 0x000001B5DA91ED90>,\n",
       " <Element '{http://www.opengis.net/wfs/2.0}FeatureType' at 0x000001B5DA91FD80>,\n",
       " <Element '{http://www.opengis.net/wfs/2.0}FeatureType' at 0x000001B5DA93C9A0>,\n",
       " <Element '{http://www.opengis.net/wfs/2.0}FeatureType' at 0x000001B5DA93D6C0>,\n",
       " <Element '{http://www.opengis.net/wfs/2.0}FeatureType' at 0x000001B5DA93DB20>,\n",
       " <Element '{http://www.opengis.net/wfs/2.0}FeatureType' at 0x000001B5DA93DF80>,\n",
       " <Element '{http://www.opengis.net/wfs/2.0}FeatureType' at 0x000001B5DA93E3E0>,\n",
       " <Element '{http://www.opengis.net/wfs/2.0}FeatureType' at 0x000001B5DA93EFC0>,\n",
       " <Element '{http://www.opengis.net/wfs/2.0}FeatureType' at 0x000001B5DA93F420>,\n",
       " <Element '{http://www.opengis.net/wfs/2.0}FeatureType' at 0x000001B5DA93F880>,\n",
       " <Element '{http://www.opengis.net/wfs/2.0}FeatureType' at 0x000001B5DA93FCE0>]"
      ]
     },
     "execution_count": 19,
     "metadata": {},
     "output_type": "execute_result"
    }
   ],
   "source": [
    "wfs_ns ={'wfs': 'http://www.opengis.net/wfs/2.0'}\n",
    "result.findall( \".//wfs:FeatureType\" , wfs_ns)"
   ]
  },
  {
   "cell_type": "code",
   "execution_count": 7,
   "metadata": {},
   "outputs": [
    {
     "data": {
      "text/plain": [
       "[<Element '{http://www.opengis.net/wfs/2.0}FeatureType' at 0x000001B5D9B02250>,\n",
       " <Element '{http://www.opengis.net/wfs/2.0}FeatureType' at 0x000001B5D9B03240>,\n",
       " <Element '{http://www.opengis.net/wfs/2.0}FeatureType' at 0x000001B5D9B03E20>,\n",
       " <Element '{http://www.opengis.net/wfs/2.0}FeatureType' at 0x000001B5D9B04B80>,\n",
       " <Element '{http://www.opengis.net/wfs/2.0}FeatureType' at 0x000001B5D9B04FE0>,\n",
       " <Element '{http://www.opengis.net/wfs/2.0}FeatureType' at 0x000001B5D9B05440>,\n",
       " <Element '{http://www.opengis.net/wfs/2.0}FeatureType' at 0x000001B5D9B058A0>,\n",
       " <Element '{http://www.opengis.net/wfs/2.0}FeatureType' at 0x000001B5D9B06480>,\n",
       " <Element '{http://www.opengis.net/wfs/2.0}FeatureType' at 0x000001B5D9B068E0>,\n",
       " <Element '{http://www.opengis.net/wfs/2.0}FeatureType' at 0x000001B5D9B06D40>,\n",
       " <Element '{http://www.opengis.net/wfs/2.0}FeatureType' at 0x000001B5D9B071A0>]"
      ]
     },
     "execution_count": 7,
     "metadata": {},
     "output_type": "execute_result"
    }
   ],
   "source": [
    "result.findall( \".//{http://www.opengis.net/wfs/2.0}FeatureType\" )"
   ]
  },
  {
   "cell_type": "code",
   "execution_count": 23,
   "metadata": {},
   "outputs": [
    {
     "data": {
      "text/plain": [
       "True"
      ]
     },
     "execution_count": 23,
     "metadata": {},
     "output_type": "execute_result"
    }
   ],
   "source": [
    "'2.0.1'.startswith('2.0.')"
   ]
  }
 ],
 "metadata": {
  "kernelspec": {
   "display_name": "gemgis",
   "language": "python",
   "name": "python3"
  },
  "language_info": {
   "codemirror_mode": {
    "name": "ipython",
    "version": 3
   },
   "file_extension": ".py",
   "mimetype": "text/x-python",
   "name": "python",
   "nbconvert_exporter": "python",
   "pygments_lexer": "ipython3",
   "version": "3.11.0"
  },
  "orig_nbformat": 4,
  "vscode": {
   "interpreter": {
    "hash": "5884af5f03fa08a0372b1b0f657f53a15f8d768f07d3c42566ba6969ae5f12e7"
   }
  }
 },
 "nbformat": 4,
 "nbformat_minor": 2
}
