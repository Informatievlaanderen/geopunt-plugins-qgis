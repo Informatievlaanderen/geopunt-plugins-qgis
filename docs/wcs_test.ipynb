{
 "cells": [
  {
   "cell_type": "code",
   "execution_count": 1,
   "metadata": {},
   "outputs": [],
   "source": [
    "from urllib.request import urlopen, Request\n",
    "from urllib.parse import urlencode\n",
    "import xml.etree.ElementTree  as ET\n",
    "from IPython.display import display, HTML\n",
    "import rasterio as rio\n",
    "\n",
    "URL = r\"https://geo.api.vlaanderen.be/el-dtm/wcs\""
   ]
  },
  {
   "cell_type": "code",
   "execution_count": 2,
   "metadata": {},
   "outputs": [],
   "source": [
    "ns = {\n",
    "    'wcs': \"http://www.opengis.net/wcs/2.0\",\n",
    "    'ows': \"http://www.opengis.net/ows/2.0\",\n",
    "    'gml': \"http://www.opengis.net/gml/3.2\"\n",
    "}"
   ]
  },
  {
   "cell_type": "code",
   "execution_count": 3,
   "metadata": {},
   "outputs": [],
   "source": [
    "req = Request(\n",
    "    URL + \"?request=getcapabilities\", \n",
    "    headers={\n",
    "        'User-Agent': 'Mozilla/5.0 (Macintosh; Intel Mac OS X 10_9_3) AppleWebKit/537.36 (KHTML, like Gecko) Chrome/35.0.1916.47 Safari/537.36'\n",
    "    }\n",
    ")\n",
    "\n",
    "resp = urlopen(req)\n",
    "capa = resp.read().decode()"
   ]
  },
  {
   "cell_type": "code",
   "execution_count": 5,
   "metadata": {},
   "outputs": [
    {
     "name": "stdout",
     "output_type": "stream",
     "text": [
      "Digitaal Hoogtemodel Vlaanderen II, DTM, raster, 1 m  ->  EL.GridCoverage.DTM\n"
     ]
    }
   ],
   "source": [
    "root = ET.fromstring(capa)\n",
    "\n",
    "for cov in  root.findall('.//wcs:CoverageSummary', namespaces=ns):\n",
    "    Title = cov.find(\"./ows:Title\", ns)\n",
    "    covId = cov.find(\"./wcs:CoverageId\", ns) \n",
    "    print(Title.text , \" -> \", covId.text )"
   ]
  },
  {
   "cell_type": "code",
   "execution_count": null,
   "metadata": {},
   "outputs": [],
   "source": [
    "\n",
    "req = Request(\n",
    "URL+\"?service=WCS&version=2.0.1&request=describecoverage&coverageid=EL.GridCoverage.DTM\", \n",
    "headers={\n",
    "        'User-Agent': 'Mozilla/5.0 (Macintosh; Intel Mac OS X 10_9_3) AppleWebKit/537.36 (KHTML, like Gecko) Chrome/35.0.1916.47 Safari/537.36'\n",
    "    }\n",
    ")\n",
    "resp = urlopen(req)\n",
    "descript = resp.read().decode()\n",
    "print(descript)"
   ]
  },
  {
   "cell_type": "code",
   "execution_count": 4,
   "metadata": {},
   "outputs": [],
   "source": [
    "BBOX = [2.5170092434134, 50.669499282716, 5.9444417082211, 51.51507303755]\n",
    "\n",
    "params = {\n",
    "    \"SERVICE\":\"WCS\",\n",
    "    \"VERSION\":\"2.0.1\",\n",
    "    \"request\":\"GetCoverage\",\n",
    "    \"CRS\":\"EPSG:31370\",\n",
    "    \"subset\":\"y,http://www.opengis.net/def/crs/EPSG/0/4258(50.7461,50.9108)\",\n",
    "    \"subset\":\"x,http://www.opengis.net/def/crs/EPSG/0/4258(4.2548,4.5418)\",\n",
    "    \"scalefactor\":\"50\",\n",
    "    \"COVERAGEID\":\"EL.GridCoverage.DTM\",\n",
    "    \"FORMAT\":\"image/tiff\", \n",
    "    \"RESPONSE_CRS\": \"EPSG:31370\"\n",
    "}"
   ]
  },
  {
   "cell_type": "code",
   "execution_count": 25,
   "metadata": {},
   "outputs": [
    {
     "name": "stdout",
     "output_type": "stream",
     "text": [
      "https://geo.api.vlaanderen.be/el-dtm/wcs?SERVICE=WCS&VERSION=2.0.1&request=GetCoverage&CRS=EPSG%3A31370&subset=x%2Chttp%3A%2F%2Fwww.opengis.net%2Fdef%2Fcrs%2FEPSG%2F0%2F4258%284.2548%2C4.5418%29&scalefactor=50&COVERAGEID=EL.GridCoverage.DTM&FORMAT=image%2Ftiff&RESPONSE_CRS=EPSG%3A31370\n"
     ]
    }
   ],
   "source": [
    "req = Request(\n",
    "    URL + \"?\" + urlencode(params), \n",
    "    headers={\n",
    "        'User-Agent': 'Mozilla/5.0 (Macintosh; Intel Mac OS X 10_9_3) AppleWebKit/537.36 (KHTML, like Gecko) Chrome/35.0.1916.47 Safari/537.36'\n",
    "    }\n",
    ")\n",
    "print( URL + \"?\" + urlencode(params) )\n",
    "resp = urlopen(req)"
   ]
  },
  {
   "cell_type": "code",
   "execution_count": null,
   "metadata": {},
   "outputs": [],
   "source": [
    "gml = ''\n",
    "resp.readline() #: first line\n",
    "for line in resp:\n",
    "   lined = line.decode(encoding=\"utf8\")\n",
    "   if '--wcs' in lined: break\n",
    "   gml +=  lined \n",
    "\n",
    "for line in resp:\n",
    "   lined = line.decode( encoding=\"ascii\")\n",
    "   if  'Content-Disposition' in lined: break\n",
    "\n",
    "with open(\"test.tif\", mode=\"wb\") as f:\n",
    "   for line in resp:\n",
    "      f.write(line)\n",
    "print(gml)"
   ]
  },
  {
   "cell_type": "code",
   "execution_count": 28,
   "metadata": {},
   "outputs": [
    {
     "name": "stdout",
     "output_type": "stream",
     "text": [
      "5170 1357\n"
     ]
    }
   ],
   "source": [
    "ras = rio.open(r'D:\\work\\geopunt4Qgis\\docs\\test.tif') \n",
    "print(ras.width, ras.height)\n",
    "ras.close()"
   ]
  },
  {
   "cell_type": "code",
   "execution_count": 1,
   "metadata": {},
   "outputs": [
    {
     "name": "stdout",
     "output_type": "stream",
     "text": [
      "<?xml version=\"1.0\" encoding=\"UTF-8\"?>\n",
      "<wcs:Capabilities xmlns:xsi=\"http://www.w3.org/2001/XMLSchema-instance\"\n",
      " xmlns:ows=\"http://www.opengis.net/ows/2.0\"\n",
      " xmlns:wcs=\"http://www.opengis.net/wcs/2.0\"\n",
      " xmlns:gml=\"http://www.opengis.net/gml/3.2\"\n",
      " xmlns:crs=\"http://www.opengis.net/wcs/service-extension/crs/1.0\"\n",
      " xmlns:int=\"http://www.opengis.net/WCS_service-extension_interpolation/1.0\"\n",
      " xmlns=\"http://www.opengis.net/ows/2.0\"\n",
      " xmlns:xlink=\"http://www.w3.org/1999/xlink\"\n",
      " xsi:schemaLocation=\"http://www.opengis.net/wcs/2.0 http://schemas.opengis.net/wcs/2.0/wcsAll.xsd\" version=\"2.0.1\">\n",
      "  <ows:ServiceIdentification>\n",
      "    <ows:Title>el</ows:Title>\n",
      "  <ows:ServiceType>OGC WCS</ows:ServiceType>\n",
      "  <ows:ServiceTypeVersion>2.0.1</ows:ServiceTypeVersion>\n",
      "  <ows:ServiceTypeVersion>1.1.2</ows:ServiceTypeVersion>\n",
      "  <ows:ServiceTypeVersion>1.1.1</ows:ServiceTypeVersion>\n",
      "  <ows:ServiceTypeVersion>1.1.0</ows:ServiceTypeVersion>\n",
      "  <ows:ServiceTypeVersion>1.0.0</ows:ServiceTypeVersion>\n",
      "  <ows:Profile>http://www.opengis.net/spec/WCS/2.0/conf/core</ows:Profile>\n",
      "  <ows:Profile>\n",
      "    http://www.opengis.net/spec/WCS_protocol-binding_get-kvp/1.0.1\n",
      "  </ows:Profile>\n",
      "  <ows:Profile>\n",
      "    http://www.opengis.net/spec/WCS_protocol-binding_post-xml/1.0\n",
      "  </ows:Profile>\n",
      "  <ows:Profile>\n",
      "    http://www.opengis.net/spec/WCS_service-extension_crs/1.0/conf/crs-gridded-coverage\n",
      "  </ows:Profile>\n",
      "  <ows:Profile>\n",
      "    http://www.opengis.net/spec/WCS_geotiff-coverages/1.0/conf/geotiff-coverage\n",
      "  </ows:Profile>\n",
      "  <ows:Profile>\n",
      "    http://www.opengis.net/spec/GMLCOV/1.0/conf/gml-coverage\n",
      "  </ows:Profile>\n",
      "  <ows:Profile>\n",
      "    http://www.opengis.net/spec/GMLCOV/1.0/conf/special-format\n",
      "  </ows:Profile>\n",
      "  <ows:Profile>\n",
      "    http://www.opengis.net/spec/GMLCOV/1.0/conf/multipart\n",
      "  </ows:Profile>\n",
      "  <ows:Profile>\n",
      "    http://www.opengis.net/spec/WCS_service-extension_scaling/1.0/conf/scaling\n",
      "  </ows:Profile>\n",
      "  <ows:Profile>\n",
      "    http://www.opengis.net/spec/WCS_service-extension_crs/1.0/conf/crs\n",
      "  </ows:Profile>\n",
      "  <ows:Profile>\n",
      "    http://www.opengis.net/spec/WCS_service-extension_interpolation/1.0/conf/interpolation\n",
      "  </ows:Profile>\n",
      "  <ows:Profile>\n",
      "    http://www.opengis.net/spec/WCS_service-extension_interpolation/1.0/conf/nearest-neighbor\n",
      "  </ows:Profile>\n",
      "  <ows:Profile>\n",
      "    http://www.opengis.net/spec/WCS_service-extension_interpolation/1.0/conf/linear\n",
      "  </ows:Profile>\n",
      "  <ows:Profile>\n",
      "    http://www.opengis.net/spec/WCS_service-extension_interpolation/1.0/conf/cubic\n",
      "  </ows:Profile>\n",
      "  <ows:Profile>\n",
      "    http://www.opengis.net/spec/WCS_service-extension_range-subsetting/1.0/conf/record-subsetting\n",
      "  </ows:Profile>\n",
      "  <ows:AccessConstraints>None</ows:AccessConstraints>\n",
      "  </ows:ServiceIdentification>\n",
      "  <ows:ServiceProvider>\n",
      "    <ows:ProviderName></ows:ProviderName>\n",
      "    <ows:ServiceContact>\n",
      "      <ows:ContactInfo>\n",
      "        <ows:Phone>\n",
      "        </ows:Phone>\n",
      "        <ows:Address>\n",
      "        </ows:Address>\n",
      "        <ows:OnlineResource xlink:href=\"https://ags.geo.api.vlaanderen.be:443/arcgis/services/el/MapServer/WCSServer\"/>\n",
      "      </ows:ContactInfo>\n",
      "    </ows:ServiceContact>\n",
      "  </ows:ServiceProvider>\n",
      "  <ows:OperationsMetadata>\n",
      "    <ows:Operation name=\"GetCapabilities\">\n",
      "      <ows:DCP>\n",
      "        <ows:HTTP>\n",
      "          <ows:Get xlink:href=\"https://ags.geo.api.vlaanderen.be:443/arcgis/services/el/MapServer/WCSServer\"/>\n",
      "          <ows:Post xlink:href=\"https://ags.geo.api.vlaanderen.be:443/arcgis/services/el/MapServer/WCSServer\">\n",
      "          </ows:Post>\n",
      "        </ows:HTTP>\n",
      "      </ows:DCP>\n",
      "    </ows:Operation>\n",
      "    <ows:Operation name=\"DescribeCoverage\">\n",
      "      <ows:DCP>\n",
      "        <ows:HTTP>\n",
      "          <ows:Get xlink:href=\"https://ags.geo.api.vlaanderen.be:443/arcgis/services/el/MapServer/WCSServer\"/>\n",
      "          <ows:Post xlink:href=\"https://ags.geo.api.vlaanderen.be:443/arcgis/services/el/MapServer/WCSServer\">\n",
      "          </ows:Post>\n",
      "        </ows:HTTP>\n",
      "      </ows:DCP>\n",
      "    </ows:Operation>\n",
      "    <ows:Operation name=\"GetCoverage\">\n",
      "      <ows:DCP>\n",
      "        <ows:HTTP>\n",
      "          <ows:Get xlink:href=\"https://ags.geo.api.vlaanderen.be:443/arcgis/services/el/MapServer/WCSServer\"/>\n",
      "          <ows:Post xlink:href=\"https://ags.geo.api.vlaanderen.be:443/arcgis/services/el/MapServer/WCSServer\">\n",
      "          </ows:Post>\n",
      "        </ows:HTTP>\n",
      "      </ows:DCP>\n",
      "    </ows:Operation>\n",
      "    <ows:Constraint name=\"PostEncoding\">\n",
      "      <ows:AllowedValues>\n",
      "        <ows:Value>XML</ows:Value>\n",
      "      </ows:AllowedValues>\n",
      "    </ows:Constraint>\n",
      "  </ows:OperationsMetadata>\n",
      "  <wcs:ServiceMetadata>\n",
      "    <wcs:formatSupported>image/tiff</wcs:formatSupported>\n",
      "    <wcs:Extension>\n",
      "      <crs:CrsMetadata>\n",
      "\t\t\t   <crs:crsSupported>http://www.opengis.net/def/crs/EPSG/0/4326</crs:crsSupported>\n",
      "        <crs:crsSupported>http://www.opengis.net/def/crs/EPSG/0/4258</crs:crsSupported>\n",
      "      </crs:CrsMetadata>\n",
      "      <int:InterpolationMetadata>\n",
      "        <int:interpolationSupported>http://www.opengis.net/def/interpolation/OGC/1/nearest-neighbor</int:interpolationSupported>\n",
      "        <int:interpolationSupported>http://www.opengis.net/def/interpolation/OGC/1/linear</int:interpolationSupported>\n",
      "        <int:interpolationSupported>http://www.opengis.net/def/interpolation/OGC/1/cubic</int:interpolationSupported>\n",
      "      </int:InterpolationMetadata>\n",
      "    </wcs:Extension>\n",
      "  </wcs:ServiceMetadata>\n",
      "  <wcs:Contents>\n",
      "    <wcs:CoverageSummary>\n",
      "      <ows:WGS84BoundingBox>\n",
      "        <ows:LowerCorner>2.46121791292819614 50.6275091317438353</ows:LowerCorner>\n",
      "        <ows:UpperCorner>6.01214752308102707 51.5594842505267437</ows:UpperCorner>\n",
      "      </ows:WGS84BoundingBox>\n",
      "      <wcs:CoverageId>EL.GridCoverage.DSM</wcs:CoverageId>\n",
      "      <wcs:CoverageSubtype>RectifiedGridCoverage</wcs:CoverageSubtype>\n",
      "    </wcs:CoverageSummary>\n",
      "    <wcs:CoverageSummary>\n",
      "      <ows:WGS84BoundingBox>\n",
      "        <ows:LowerCorner>2.46121791292819614 50.6275091317438353</ows:LowerCorner>\n",
      "        <ows:UpperCorner>6.01214752308102707 51.5594842505267437</ows:UpperCorner>\n",
      "      </ows:WGS84BoundingBox>\n",
      "      <wcs:CoverageId>EL.GridCoverage.DTM</wcs:CoverageId>\n",
      "      <wcs:CoverageSubtype>RectifiedGridCoverage</wcs:CoverageSubtype>\n",
      "    </wcs:CoverageSummary>\n",
      "  </wcs:Contents>\n",
      "</wcs:Capabilities>\n",
      "\n"
     ]
    }
   ],
   "source": [
    "import requests\n",
    "\n",
    "\n",
    "URL = \"https://geo.api.vlaanderen.be/el-dtm/wcs\"\n",
    "\n",
    "data_post=\"\"\"<?xml version=\"1.0\" encoding=\"UTF-8\"?>\n",
    "<wcs:GetCapabilities\n",
    " xmlns:xsi=\"http://www.w3.org/2001/XMLSchema-instance\"\n",
    " xmlns:wcs=\"http://www.opengis.net/wcs/2.0\" \n",
    " xmlns:ows=\"http://www.opengis.net/ows/2.0\" \n",
    " xsi:schemaLocation= \"http://schemas.opengis.net/wcs/2.0 ../wcsAll.xsd\" service=\"WCS\">\n",
    " <ows:AcceptVersions>\n",
    " <ows:Version>2.0.1</ows:Version>\n",
    " </ows:AcceptVersions>\n",
    "</wcs:GetCapabilities>\"\"\"\n",
    "\n",
    "headers = {\n",
    "  'Content-Type': 'application/xml',\n",
    "  'User-Agent': 'Mozilla/5.0 (Windows NT 10.0; rv:91.0) Gecko/20100101 Firefox/91.0'\n",
    "}\n",
    "\n",
    "_r = requests.post(URL, data=data_post, headers=headers)\n",
    "print( _r.content.decode() )"
   ]
  },
  {
   "cell_type": "code",
   "execution_count": 8,
   "metadata": {},
   "outputs": [
    {
     "name": "stdout",
     "output_type": "stream",
     "text": [
      "<html>\n",
      "<head><title>403 Forbidden</title></head>\n",
      "<body>\n",
      "<center><h1>403 Forbidden</h1></center>\n",
      "<hr><center>Microsoft-Azure-Application-Gateway/v2</center>\n",
      "</body>\n",
      "</html>\n",
      "<!-- a padding to disable MSIE and Chrome friendly error page -->\n",
      "<!-- a padding to disable MSIE and Chrome friendly error page -->\n",
      "<!-- a padding to disable MSIE and Chrome friendly error page -->\n",
      "<!-- a padding to disable MSIE and Chrome friendly error page -->\n",
      "<!-- a padding to disable MSIE and Chrome friendly error page -->\n",
      "<!-- a padding to disable MSIE and Chrome friendly error page -->\n",
      "\n"
     ]
    }
   ],
   "source": [
    "data_post=\"\"\"<?xml version=\"1.0\" encoding=\"UTF-8\"?> \n",
    "<wcs:GetCoverage\n",
    " xmlns:xsi=\"http://www.w3.org/2001/XMLSchema-instance\"\n",
    " xmlns:wcs=\"http://www.opengis.net/wcs/2.0\" \n",
    " xmlns:ows=\"http://www.opengis.net/ows/2.0\" \n",
    " xmlns:gml=\"http://www.opengis.net/gml/3.2\" \n",
    " xsi:schemaLocation= \"http://schemas.opengis.net/wcs/2.0 ../wcsAll.xsd\"\n",
    "  service=\"WCS\" version=\"2.0.1\"> \n",
    "  <wcs:CoverageId>EL.GridCoverage.DTM</wcs:CoverageId> \n",
    "  <wcs:trimDimension> \n",
    "    <wcs:dimension>x</wcs:dimension> \n",
    "    <wcs:trimLow>50.7461</wcs:trimLow> \n",
    "    <wcs:trimHigh>50.9108</wcs:trimHigh> \n",
    "  </wcs:trimDimension> \n",
    "  <wcs:trimDimension> \n",
    "    <wcs:dimension>x</wcs:dimension> \n",
    "    <wcs:trimLow>4.2548</wcs:trimLow> \n",
    "    <wcs:trimHigh>4.5418</wcs:trimHigh> \n",
    "  </wcs:trimDimension>\n",
    "</wcs:GetCoverage>\"\"\"\n",
    "\n",
    "url = 'https://geo.api.vlaanderen.be/el-dtm/wcs'\n",
    "headers={\n",
    "    \n",
    "       'User-Agent': 'Mozilla/5.0 (Macintosh; Intel Mac OS X 10_9_3) AppleWebKit/537.36 (KHTML, like Gecko) Chrome/35.0.1916.47 Safari/537.36'\n",
    "    }\n",
    "\n",
    "\n",
    "_r = requests.post(url, data=data_post, headers=headers )\n",
    "print(_r.text)"
   ]
  },
  {
   "cell_type": "code",
   "execution_count": 28,
   "metadata": {},
   "outputs": [
    {
     "data": {
      "text/plain": [
       "{'driver': 'WCS', 'dtype': 'float32', 'nodata': -9999.0, 'width': 258477, 'height': 67839, 'count': 1, 'crs': CRS.from_epsg(4258), 'transform': Affine(-1.3737840783946172e-05, 0.0, 51.559484250526744,\n",
       "       0.0, 1.3737840783946142e-05, 2.461217912928196), 'blockxsize': 1024, 'blockysize': 512, 'tiled': True}"
      ]
     },
     "execution_count": 28,
     "metadata": {},
     "output_type": "execute_result"
    }
   ],
   "source": [
    "import rasterio as rio\n",
    "\n",
    "ras = rio.open(r'WCS:https://geo.api.vlaanderen.be/el-dtm/wcs?VERSION=1.1.0&coverage=EL.GridCoverage.DTM' ) \n",
    "ras.profile"
   ]
  },
  {
   "cell_type": "code",
   "execution_count": 18,
   "metadata": {},
   "outputs": [
    {
     "data": {
      "text/plain": [
       "(51.559484250526744,\n",
       " -1.3737840783946172e-05,\n",
       " 0.0,\n",
       " 2.461217912928196,\n",
       " 0.0,\n",
       " 1.3737840783946142e-05)"
      ]
     },
     "execution_count": 18,
     "metadata": {},
     "output_type": "execute_result"
    }
   ],
   "source": [
    "from osgeo import gdal\n",
    "url= r'WCS:https://geo.api.vlaanderen.be/el-dtm/wcs?VERSION=1.1.0&coverage=EL.GridCoverage.DTM'\n",
    "dataset = gdal.Open( url , gdal.GA_ReadOnly)\n",
    "dataset.GetGeoTransform()"
   ]
  },
  {
   "cell_type": "code",
   "execution_count": 34,
   "metadata": {},
   "outputs": [
    {
     "data": {
      "text/plain": [
       "(2584, 678)"
      ]
     },
     "execution_count": 34,
     "metadata": {},
     "output_type": "execute_result"
    }
   ],
   "source": [
    "dataset.RasterXSize//100 , dataset.RasterYSize //100"
   ]
  },
  {
   "cell_type": "code",
   "execution_count": 36,
   "metadata": {},
   "outputs": [
    {
     "name": "stdout",
     "output_type": "stream",
     "text": [
      "1.0 Downloading ... None\n"
     ]
    }
   ],
   "source": [
    "dataset.ReadAsArray(xsize= dataset.RasterXSize//100, ysize= dataset.RasterYSize //100, callback=print)"
   ]
  },
  {
   "cell_type": "code",
   "execution_count": 11,
   "metadata": {},
   "outputs": [],
   "source": [
    "\n",
    "band = dataset.GetRasterBand(1)\n",
    "band.ComputeRasterMinMax(True)\n",
    "\n",
    "scanline = band.ReadRaster(xoff=0, yoff=0,\n",
    "                        xsize=band.XSize, ysize=1,\n",
    "                        buf_xsize=band.XSize, buf_ysize=1,\n",
    "                        buf_type=gdal.GDT_Float32)\n",
    "scanline"
   ]
  },
  {
   "cell_type": "code",
   "execution_count": 8,
   "metadata": {},
   "outputs": [
    {
     "data": {
      "text/plain": [
       "[[1, 2], 4, 5]"
      ]
     },
     "execution_count": 8,
     "metadata": {},
     "output_type": "execute_result"
    }
   ],
   "source": [
    "f =[[4,54],[1,2],4,5]\n",
    "f[1:]"
   ]
  },
  {
   "cell_type": "code",
   "execution_count": 5,
   "metadata": {},
   "outputs": [],
   "source": [
    "import requests\n",
    "\n",
    "def fetchElevaton(LineString, srs=31370, samples=20 ):\n",
    "    baseUri = 'https://dhm.agiv.be/api/elevation/v1/DHMV2'\n",
    "    locations = \"|\".join( [\"{},{}\".format(*f) for f in LineString ] )\n",
    "    data = {}\n",
    "    data[\"SrsIn\"] = srs\n",
    "    data[\"SrsOut\"] = srs \n",
    "    data[\"Locations\"] = locations\n",
    "    data[\"Samples\"] = samples\n",
    "    resp = requests.get(baseUri, params=data )\n",
    "    return resp.json()"
   ]
  },
  {
   "cell_type": "code",
   "execution_count": 6,
   "metadata": {},
   "outputs": [
    {
     "data": {
      "text/plain": [
       "[[0.0, 152898.7, 212780.2, 6.29],\n",
       " [82.56850173779661, 152907.77368421055, 212698.1315789474, 7.25],\n",
       " [165.13700347559322, 152916.84736842106, 212616.06315789474, 8.21],\n",
       " [247.7055052133898, 152925.92105263157, 212533.9947368421, 8.43],\n",
       " [330.27400695118644, 152934.9947368421, 212451.9263157895, 7.93],\n",
       " [412.84250868898306, 152944.06842105265, 212369.85789473687, 8.54],\n",
       " [495.4110104267797, 152953.14210526316, 212287.7894736842, 8.07],\n",
       " [577.9795121645762, 152962.21578947367, 212205.72105263156, 8.69],\n",
       " [660.5480139023729, 152971.2894736842, 212123.65263157897, 7.09],\n",
       " [743.1165156401695, 152980.36315789475, 212041.58421052631, 7.41],\n",
       " [825.6850173779661, 152989.4368421053, 211959.51578947366, 7.56],\n",
       " [908.2535191157627, 152998.5105263158, 211877.44736842107, 7.23],\n",
       " [990.8220208535594, 153007.58421052631, 211795.37894736842, 7.44],\n",
       " [1073.3905225913559, 153016.65789473685, 211713.31052631576, 8.28],\n",
       " [1155.9590243291525, 153025.73157894737, 211631.24210526314, 7.4],\n",
       " [1238.5275260669491, 153034.8052631579, 211549.17368421052, 7.7],\n",
       " [1321.0960278047457, 153043.87894736842, 211467.1052631579, 6.73],\n",
       " [1403.6645295425424, 153052.95263157896, 211385.03684210527, 6.78],\n",
       " [1486.233031280339, 153062.0263157895, 211302.96842105262, 4.21],\n",
       " [1568.8015330181356, 153071.1, 211220.9, 5.82]]"
      ]
     },
     "execution_count": 6,
     "metadata": {},
     "output_type": "execute_result"
    }
   ],
   "source": [
    "ln = [[152898.7,212780.2],[153071.1,211220.9]]\n",
    "\n",
    "fetchElevaton(ln)"
   ]
  }
 ],
 "metadata": {
  "kernelspec": {
   "display_name": "gemgis",
   "language": "python",
   "name": "python3"
  },
  "language_info": {
   "codemirror_mode": {
    "name": "ipython",
    "version": 3
   },
   "file_extension": ".py",
   "mimetype": "text/x-python",
   "name": "python",
   "nbconvert_exporter": "python",
   "pygments_lexer": "ipython3",
   "version": "3.10.0"
  },
  "orig_nbformat": 4
 },
 "nbformat": 4,
 "nbformat_minor": 2
}
