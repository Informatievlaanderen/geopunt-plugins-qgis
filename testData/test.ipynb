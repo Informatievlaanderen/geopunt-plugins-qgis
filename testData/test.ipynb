{
 "cells": [
  {
   "cell_type": "code",
   "execution_count": 1,
   "metadata": {},
   "outputs": [],
   "source": [
    "from qgis.core import Qgis"
   ]
  },
  {
   "cell_type": "code",
   "execution_count": 1,
   "metadata": {},
   "outputs": [],
   "source": [
    "import xml.etree.ElementTree as etree\n",
    "import requests"
   ]
  },
  {
   "cell_type": "code",
   "execution_count": 12,
   "metadata": {},
   "outputs": [
    {
     "data": {
      "text/plain": [
       "'2.0.0'"
      ]
     },
     "execution_count": 12,
     "metadata": {},
     "output_type": "execute_result"
    }
   ],
   "source": [
    "url= \"https://www.dov.vlaanderen.be/geoserver/pfas/wfs?service=wfs&request=getcapabilities\"\n",
    "\n",
    "xdata=  requests.get(url).text\n",
    "result = etree.fromstring(xdata)\n"
   ]
  },
  {
   "cell_type": "code",
   "execution_count": 19,
   "metadata": {},
   "outputs": [
    {
     "data": {
      "text/plain": [
       "[<Element '{http://www.opengis.net/wfs/2.0}FeatureType' at 0x000001B5DA91ED90>,\n",
       " <Element '{http://www.opengis.net/wfs/2.0}FeatureType' at 0x000001B5DA91FD80>,\n",
       " <Element '{http://www.opengis.net/wfs/2.0}FeatureType' at 0x000001B5DA93C9A0>,\n",
       " <Element '{http://www.opengis.net/wfs/2.0}FeatureType' at 0x000001B5DA93D6C0>,\n",
       " <Element '{http://www.opengis.net/wfs/2.0}FeatureType' at 0x000001B5DA93DB20>,\n",
       " <Element '{http://www.opengis.net/wfs/2.0}FeatureType' at 0x000001B5DA93DF80>,\n",
       " <Element '{http://www.opengis.net/wfs/2.0}FeatureType' at 0x000001B5DA93E3E0>,\n",
       " <Element '{http://www.opengis.net/wfs/2.0}FeatureType' at 0x000001B5DA93EFC0>,\n",
       " <Element '{http://www.opengis.net/wfs/2.0}FeatureType' at 0x000001B5DA93F420>,\n",
       " <Element '{http://www.opengis.net/wfs/2.0}FeatureType' at 0x000001B5DA93F880>,\n",
       " <Element '{http://www.opengis.net/wfs/2.0}FeatureType' at 0x000001B5DA93FCE0>]"
      ]
     },
     "execution_count": 19,
     "metadata": {},
     "output_type": "execute_result"
    }
   ],
   "source": [
    "wfs_ns ={'wfs': 'http://www.opengis.net/wfs/2.0'}\n",
    "result.findall( \".//wfs:FeatureType\" , wfs_ns)"
   ]
  },
  {
   "cell_type": "code",
   "execution_count": 18,
   "metadata": {},
   "outputs": [
    {
     "data": {
      "text/plain": [
       "(9, 9)"
      ]
     },
     "execution_count": 18,
     "metadata": {},
     "output_type": "execute_result"
    }
   ],
   "source": [
    "len( [n for n in range(100, 999+1, 100)] ) , 999 //100"
   ]
  }
 ],
 "metadata": {
  "kernelspec": {
   "display_name": "gemgis",
   "language": "python",
   "name": "python3"
  },
  "language_info": {
   "codemirror_mode": {
    "name": "ipython",
    "version": 3
   },
   "file_extension": ".py",
   "mimetype": "text/x-python",
   "name": "python",
   "nbconvert_exporter": "python",
   "pygments_lexer": "ipython3",
   "version": "3.11.0"
  },
  "orig_nbformat": 4,
  "vscode": {
   "interpreter": {
    "hash": "5884af5f03fa08a0372b1b0f657f53a15f8d768f07d3c42566ba6969ae5f12e7"
   }
  }
 },
 "nbformat": 4,
 "nbformat_minor": 2
}
